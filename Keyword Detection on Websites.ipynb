{
 "cells": [
  {
   "cell_type": "markdown",
   "metadata": {},
   "source": [
    "# Table of Contents\n",
    "* [Project Goals](#project_goals)\n",
    "* [Introduction](#introduction)\n",
    "* [Importing Data](#importing_data)\n",
    "* [Exploratory Data Analysis](#exploratory_data_analysis)\n",
    "* [Feature Engineering](#feature_engineering)"
   ]
  },
  {
   "cell_type": "markdown",
   "metadata": {},
   "source": [
    "<a class=\"anchor\" id=\"project_goals\"></a>\n",
    "\n",
    "# <p style=\"background:#00003f url('pylogo.jpg') no-repeat; font-family:tahoma; font-size:150%; color:white; text-align:center; border-radius:20px 30px; width:92%; padding:30px; font-weight:bold\">Project Goals</p>"
   ]
  },
  {
   "cell_type": "markdown",
   "metadata": {},
   "source": [
    "The task is to create an algorithm, that takes an HTML page as input and infers if the page contains the information about cancer tumor board or not.\n",
    "\n",
    "What is a tumor board? Tumor Board is a consilium of doctors (usually from diferent disciplines) discussing cancer cases in their departments. If you want to know more you can read this article.\n",
    "\n",
    "As a final output from this task I will provide a submission.csv file for the test data set with two columns: document ID and a prediction, and a Jupyter notebook with code and documentation giving answers to the following questions:\n",
    "\n",
    "-\tHow did you decide to do feature engineering?\n",
    "-\tHow did you decide which models to try (if you decide to train any models)?\n",
    "-\tHow did you perform validation of your model?\n",
    "-\tWhat metrics did you measure?\n",
    "-\tHow do you expect your model to perform on test data (in terms of your metrics)?\n",
    "-\tHow fast will your algorithm perform and how could you improve its performance if you would have more time?\n",
    "-\tHow do you think you would be able to improve your algorithm if you would have more data?\n",
    "-\tWhat potential issues do you see with your algorithm?"
   ]
  },
  {
   "cell_type": "markdown",
   "metadata": {},
   "source": [
    "<a class=\"anchor\" id=\"introduction\"></a>\n",
    "\n",
    "# <p style=\"background:#990011 url('pylogo.jpg') no-repeat; font-family:tahoma; font-size:150%; color:#FCF6F5; text-align:center; border-radius:20px 30px; width:40%; padding:30px; font-weight:bold\">Introduction</p>"
   ]
  },
  {
   "cell_type": "markdown",
   "metadata": {},
   "source": [
    "As a first step in solving this problem, we will load the provided CSV files using the `Pandas` library. The training CSV file contains 100 rows, with three columns: `URL`, `doc_id`, and a `label`. The test CSV file has 48 rows with two columns: `URL` and `doc_id`. The goal is to train a machine learning model that can predict a `label` for the documents provided in the test CSV based on the data that is available in the training CSV."
   ]
  },
  {
   "cell_type": "code",
   "execution_count": 1,
   "metadata": {},
   "outputs": [],
   "source": [
    "import pandas as pd"
   ]
  },
  {
   "cell_type": "code",
   "execution_count": 2,
   "metadata": {},
   "outputs": [
    {
     "name": "stdout",
     "output_type": "stream",
     "text": [
      "Training set shape (100, 3)\n"
     ]
    },
    {
     "data": {
      "text/html": [
       "<div>\n",
       "<style scoped>\n",
       "    .dataframe tbody tr th:only-of-type {\n",
       "        vertical-align: middle;\n",
       "    }\n",
       "\n",
       "    .dataframe tbody tr th {\n",
       "        vertical-align: top;\n",
       "    }\n",
       "\n",
       "    .dataframe thead th {\n",
       "        text-align: right;\n",
       "    }\n",
       "</style>\n",
       "<table border=\"1\" class=\"dataframe\">\n",
       "  <thead>\n",
       "    <tr style=\"text-align: right;\">\n",
       "      <th></th>\n",
       "      <th>url</th>\n",
       "      <th>doc_id</th>\n",
       "      <th>label</th>\n",
       "    </tr>\n",
       "  </thead>\n",
       "  <tbody>\n",
       "    <tr>\n",
       "      <th>0</th>\n",
       "      <td>http://elbe-elster-klinikum.de/fachbereiche/ch...</td>\n",
       "      <td>1</td>\n",
       "      <td>1</td>\n",
       "    </tr>\n",
       "    <tr>\n",
       "      <th>1</th>\n",
       "      <td>http://klinikum-bayreuth.de/einrichtungen/zent...</td>\n",
       "      <td>3</td>\n",
       "      <td>3</td>\n",
       "    </tr>\n",
       "    <tr>\n",
       "      <th>2</th>\n",
       "      <td>http://klinikum-braunschweig.de/info.php/?id_o...</td>\n",
       "      <td>4</td>\n",
       "      <td>1</td>\n",
       "    </tr>\n",
       "    <tr>\n",
       "      <th>3</th>\n",
       "      <td>http://klinikum-braunschweig.de/info.php/?id_o...</td>\n",
       "      <td>5</td>\n",
       "      <td>1</td>\n",
       "    </tr>\n",
       "    <tr>\n",
       "      <th>4</th>\n",
       "      <td>http://klinikum-braunschweig.de/zuweiser/tumor...</td>\n",
       "      <td>6</td>\n",
       "      <td>3</td>\n",
       "    </tr>\n",
       "    <tr>\n",
       "      <th>5</th>\n",
       "      <td>http://krebszentrum.kreiskliniken-reutlingen.d...</td>\n",
       "      <td>8</td>\n",
       "      <td>1</td>\n",
       "    </tr>\n",
       "    <tr>\n",
       "      <th>6</th>\n",
       "      <td>http://krebszentrum.kreiskliniken-reutlingen.d...</td>\n",
       "      <td>9</td>\n",
       "      <td>1</td>\n",
       "    </tr>\n",
       "    <tr>\n",
       "      <th>7</th>\n",
       "      <td>http://krebszentrum.kreiskliniken-reutlingen.d...</td>\n",
       "      <td>10</td>\n",
       "      <td>1</td>\n",
       "    </tr>\n",
       "    <tr>\n",
       "      <th>8</th>\n",
       "      <td>http://krebszentrum.kreiskliniken-reutlingen.d...</td>\n",
       "      <td>11</td>\n",
       "      <td>1</td>\n",
       "    </tr>\n",
       "    <tr>\n",
       "      <th>9</th>\n",
       "      <td>http://krebszentrum.kreiskliniken-reutlingen.d...</td>\n",
       "      <td>12</td>\n",
       "      <td>1</td>\n",
       "    </tr>\n",
       "  </tbody>\n",
       "</table>\n",
       "</div>"
      ],
      "text/plain": [
       "                                                 url  doc_id  label\n",
       "0  http://elbe-elster-klinikum.de/fachbereiche/ch...       1      1\n",
       "1  http://klinikum-bayreuth.de/einrichtungen/zent...       3      3\n",
       "2  http://klinikum-braunschweig.de/info.php/?id_o...       4      1\n",
       "3  http://klinikum-braunschweig.de/info.php/?id_o...       5      1\n",
       "4  http://klinikum-braunschweig.de/zuweiser/tumor...       6      3\n",
       "5  http://krebszentrum.kreiskliniken-reutlingen.d...       8      1\n",
       "6  http://krebszentrum.kreiskliniken-reutlingen.d...       9      1\n",
       "7  http://krebszentrum.kreiskliniken-reutlingen.d...      10      1\n",
       "8  http://krebszentrum.kreiskliniken-reutlingen.d...      11      1\n",
       "9  http://krebszentrum.kreiskliniken-reutlingen.d...      12      1"
      ]
     },
     "execution_count": 2,
     "metadata": {},
     "output_type": "execute_result"
    }
   ],
   "source": [
    "train_csv = pd.read_csv(filepath_or_buffer=\"train.csv\")\n",
    "print(\"Training set shape\", train_csv.shape)\n",
    "train_csv.head(10)"
   ]
  },
  {
   "cell_type": "code",
   "execution_count": 3,
   "metadata": {},
   "outputs": [
    {
     "name": "stdout",
     "output_type": "stream",
     "text": [
      "Test set shape (48, 2)\n"
     ]
    },
    {
     "data": {
      "text/html": [
       "<div>\n",
       "<style scoped>\n",
       "    .dataframe tbody tr th:only-of-type {\n",
       "        vertical-align: middle;\n",
       "    }\n",
       "\n",
       "    .dataframe tbody tr th {\n",
       "        vertical-align: top;\n",
       "    }\n",
       "\n",
       "    .dataframe thead th {\n",
       "        text-align: right;\n",
       "    }\n",
       "</style>\n",
       "<table border=\"1\" class=\"dataframe\">\n",
       "  <thead>\n",
       "    <tr style=\"text-align: right;\">\n",
       "      <th></th>\n",
       "      <th>url</th>\n",
       "      <th>doc_id</th>\n",
       "    </tr>\n",
       "  </thead>\n",
       "  <tbody>\n",
       "    <tr>\n",
       "      <th>0</th>\n",
       "      <td>http://chirurgie-goettingen.de/medizinische-ve...</td>\n",
       "      <td>0</td>\n",
       "    </tr>\n",
       "    <tr>\n",
       "      <th>1</th>\n",
       "      <td>http://evkb.de/kliniken-zentren/chirurgie/allg...</td>\n",
       "      <td>2</td>\n",
       "    </tr>\n",
       "    <tr>\n",
       "      <th>2</th>\n",
       "      <td>http://krebszentrum.kreiskliniken-reutlingen.d...</td>\n",
       "      <td>7</td>\n",
       "    </tr>\n",
       "    <tr>\n",
       "      <th>3</th>\n",
       "      <td>http://marienhospital-buer.de/mhb-av-chirurgie...</td>\n",
       "      <td>15</td>\n",
       "    </tr>\n",
       "    <tr>\n",
       "      <th>4</th>\n",
       "      <td>http://marienhospital-buer.de/mhb-av-chirurgie...</td>\n",
       "      <td>16</td>\n",
       "    </tr>\n",
       "  </tbody>\n",
       "</table>\n",
       "</div>"
      ],
      "text/plain": [
       "                                                 url  doc_id\n",
       "0  http://chirurgie-goettingen.de/medizinische-ve...       0\n",
       "1  http://evkb.de/kliniken-zentren/chirurgie/allg...       2\n",
       "2  http://krebszentrum.kreiskliniken-reutlingen.d...       7\n",
       "3  http://marienhospital-buer.de/mhb-av-chirurgie...      15\n",
       "4  http://marienhospital-buer.de/mhb-av-chirurgie...      16"
      ]
     },
     "execution_count": 3,
     "metadata": {},
     "output_type": "execute_result"
    }
   ],
   "source": [
    "test_csv = pd.read_csv(filepath_or_buffer=\"test.csv\")\n",
    "print(\"Test set shape\", test_csv.shape)\n",
    "test_csv.head()"
   ]
  },
  {
   "cell_type": "code",
   "execution_count": 4,
   "metadata": {},
   "outputs": [
    {
     "name": "stdout",
     "output_type": "stream",
     "text": [
      "Tumor keywords set shape (126, 2)\n"
     ]
    },
    {
     "data": {
      "text/html": [
       "<div>\n",
       "<style scoped>\n",
       "    .dataframe tbody tr th:only-of-type {\n",
       "        vertical-align: middle;\n",
       "    }\n",
       "\n",
       "    .dataframe tbody tr th {\n",
       "        vertical-align: top;\n",
       "    }\n",
       "\n",
       "    .dataframe thead th {\n",
       "        text-align: right;\n",
       "    }\n",
       "</style>\n",
       "<table border=\"1\" class=\"dataframe\">\n",
       "  <thead>\n",
       "    <tr style=\"text-align: right;\">\n",
       "      <th></th>\n",
       "      <th>keyword</th>\n",
       "      <th>tumor_type</th>\n",
       "    </tr>\n",
       "  </thead>\n",
       "  <tbody>\n",
       "    <tr>\n",
       "      <th>0</th>\n",
       "      <td>senologische</td>\n",
       "      <td>Brust</td>\n",
       "    </tr>\n",
       "    <tr>\n",
       "      <th>1</th>\n",
       "      <td>brustzentrum</td>\n",
       "      <td>Brust</td>\n",
       "    </tr>\n",
       "    <tr>\n",
       "      <th>2</th>\n",
       "      <td>breast</td>\n",
       "      <td>Brust</td>\n",
       "    </tr>\n",
       "    <tr>\n",
       "      <th>3</th>\n",
       "      <td>thorax</td>\n",
       "      <td>Brust</td>\n",
       "    </tr>\n",
       "    <tr>\n",
       "      <th>4</th>\n",
       "      <td>thorakale</td>\n",
       "      <td>Brust</td>\n",
       "    </tr>\n",
       "  </tbody>\n",
       "</table>\n",
       "</div>"
      ],
      "text/plain": [
       "        keyword tumor_type\n",
       "0  senologische      Brust\n",
       "1  brustzentrum      Brust\n",
       "2        breast      Brust\n",
       "3        thorax      Brust\n",
       "4     thorakale      Brust"
      ]
     },
     "execution_count": 4,
     "metadata": {},
     "output_type": "execute_result"
    }
   ],
   "source": [
    "tumor_keywords = pd.read_csv(filepath_or_buffer=\"keyword2tumor_type.csv\")\n",
    "print(\"Tumor keywords set shape\", tumor_keywords.shape)\n",
    "tumor_keywords.head()"
   ]
  },
  {
   "cell_type": "markdown",
   "metadata": {},
   "source": [
    "We have `100` documents in the training set, and `48` in the test set. We have `32` documents that mention no tumor board (label = 1), `59` documents where a tumor board is mentioned, but we are not certain if it is the main focus of the page (label = 2), and `9` documents for which we are certain that they are dedicated to tumor boards."
   ]
  },
  {
   "cell_type": "code",
   "execution_count": 5,
   "metadata": {},
   "outputs": [
    {
     "data": {
      "text/plain": [
       "label\n",
       "1    32\n",
       "2    59\n",
       "3     9\n",
       "dtype: int64"
      ]
     },
     "execution_count": 5,
     "metadata": {},
     "output_type": "execute_result"
    }
   ],
   "source": [
    "train_csv.groupby(by=\"label\").size()"
   ]
  },
  {
   "cell_type": "markdown",
   "metadata": {},
   "source": [
    "<a class=\"anchor\" id=\"importing_data\"></a>\n",
    "\n",
    "# <p style=\"background:#990011 url('pylogo.jpg') no-repeat; font-family:tahoma; font-size:150%; color:#FCF6F5; text-align:center; border-radius:20px 30px; width:60%; padding:30px; font-weight:bold\">Loading Data</p>"
   ]
  },
  {
   "cell_type": "code",
   "execution_count": 8,
   "metadata": {},
   "outputs": [],
   "source": [
    "def read_html(doc_id: int) -> str:\n",
    "    \"\"\"\n",
    "    Reads the HTML document with the given doc_id from the database.\n",
    "    \"\"\"\n",
    "    with open(file=f\"htmls/{doc_id}.html\", mode= 'r', encoding= \"latin1\") as f:\n",
    "        html = f.read()\n",
    "    return html"
   ]
  },
  {
   "cell_type": "markdown",
   "metadata": {},
   "source": [
    "##### Read the HTML documents in the train_csv"
   ]
  },
  {
   "cell_type": "code",
   "execution_count": 9,
   "metadata": {},
   "outputs": [
    {
     "data": {
      "text/html": [
       "<div>\n",
       "<style scoped>\n",
       "    .dataframe tbody tr th:only-of-type {\n",
       "        vertical-align: middle;\n",
       "    }\n",
       "\n",
       "    .dataframe tbody tr th {\n",
       "        vertical-align: top;\n",
       "    }\n",
       "\n",
       "    .dataframe thead th {\n",
       "        text-align: right;\n",
       "    }\n",
       "</style>\n",
       "<table border=\"1\" class=\"dataframe\">\n",
       "  <thead>\n",
       "    <tr style=\"text-align: right;\">\n",
       "      <th></th>\n",
       "      <th>url</th>\n",
       "      <th>doc_id</th>\n",
       "      <th>label</th>\n",
       "      <th>html</th>\n",
       "    </tr>\n",
       "  </thead>\n",
       "  <tbody>\n",
       "    <tr>\n",
       "      <th>0</th>\n",
       "      <td>http://elbe-elster-klinikum.de/fachbereiche/ch...</td>\n",
       "      <td>1</td>\n",
       "      <td>1</td>\n",
       "      <td>&lt;!DOCTYPE html&gt;\\n&lt;!-- jsn_reta_pro 1.0.2 --&gt;\\n...</td>\n",
       "    </tr>\n",
       "    <tr>\n",
       "      <th>1</th>\n",
       "      <td>http://klinikum-bayreuth.de/einrichtungen/zent...</td>\n",
       "      <td>3</td>\n",
       "      <td>3</td>\n",
       "      <td>&lt;!DOCTYPE html&gt;\\n&lt;html class=\"no-js\" lang=\"de\"...</td>\n",
       "    </tr>\n",
       "    <tr>\n",
       "      <th>2</th>\n",
       "      <td>http://klinikum-braunschweig.de/info.php/?id_o...</td>\n",
       "      <td>4</td>\n",
       "      <td>1</td>\n",
       "      <td>&lt;!doctype html&gt;\\n&lt;html lang=\"de\"&gt;\\n&lt;head&gt;\\n\\t&lt;...</td>\n",
       "    </tr>\n",
       "    <tr>\n",
       "      <th>3</th>\n",
       "      <td>http://klinikum-braunschweig.de/info.php/?id_o...</td>\n",
       "      <td>5</td>\n",
       "      <td>1</td>\n",
       "      <td>&lt;!doctype html&gt;\\n&lt;html lang=\"de\"&gt;\\n&lt;head&gt;\\n\\t&lt;...</td>\n",
       "    </tr>\n",
       "    <tr>\n",
       "      <th>4</th>\n",
       "      <td>http://klinikum-braunschweig.de/zuweiser/tumor...</td>\n",
       "      <td>6</td>\n",
       "      <td>3</td>\n",
       "      <td>&lt;!doctype html&gt;\\n&lt;html lang=\"de\"&gt;\\n&lt;head&gt;\\n\\t&lt;...</td>\n",
       "    </tr>\n",
       "  </tbody>\n",
       "</table>\n",
       "</div>"
      ],
      "text/plain": [
       "                                                 url  doc_id  label  \\\n",
       "0  http://elbe-elster-klinikum.de/fachbereiche/ch...       1      1   \n",
       "1  http://klinikum-bayreuth.de/einrichtungen/zent...       3      3   \n",
       "2  http://klinikum-braunschweig.de/info.php/?id_o...       4      1   \n",
       "3  http://klinikum-braunschweig.de/info.php/?id_o...       5      1   \n",
       "4  http://klinikum-braunschweig.de/zuweiser/tumor...       6      3   \n",
       "\n",
       "                                                html  \n",
       "0  <!DOCTYPE html>\\n<!-- jsn_reta_pro 1.0.2 -->\\n...  \n",
       "1  <!DOCTYPE html>\\n<html class=\"no-js\" lang=\"de\"...  \n",
       "2  <!doctype html>\\n<html lang=\"de\">\\n<head>\\n\\t<...  \n",
       "3  <!doctype html>\\n<html lang=\"de\">\\n<head>\\n\\t<...  \n",
       "4  <!doctype html>\\n<html lang=\"de\">\\n<head>\\n\\t<...  "
      ]
     },
     "execution_count": 9,
     "metadata": {},
     "output_type": "execute_result"
    }
   ],
   "source": [
    "train_csv[\"html\"] = train_csv[\"doc_id\"].apply(read_html)\n",
    "train_csv.head()"
   ]
  },
  {
   "cell_type": "markdown",
   "metadata": {},
   "source": [
    "##### Extract the text from the HTML"
   ]
  },
  {
   "cell_type": "code",
   "execution_count": 13,
   "metadata": {},
   "outputs": [],
   "source": [
    "import warnings\n",
    "from bs4 import BeautifulSoup\n",
    "warnings.filterwarnings(action=\"ignore\")"
   ]
  },
  {
   "cell_type": "code",
   "execution_count": 15,
   "metadata": {},
   "outputs": [],
   "source": [
    "def extract_html_text(html):\n",
    "    bs = BeautifulSoup(markup=html, features = 'lxml')\n",
    "    for script in bs(name=[\"script\", \"style\"]):\n",
    "        script.decompose()\n",
    "    return bs.get_text(separator= \" \")"
   ]
  },
  {
   "cell_type": "code",
   "execution_count": 16,
   "metadata": {},
   "outputs": [
    {
     "data": {
      "text/html": [
       "<div>\n",
       "<style scoped>\n",
       "    .dataframe tbody tr th:only-of-type {\n",
       "        vertical-align: middle;\n",
       "    }\n",
       "\n",
       "    .dataframe tbody tr th {\n",
       "        vertical-align: top;\n",
       "    }\n",
       "\n",
       "    .dataframe thead th {\n",
       "        text-align: right;\n",
       "    }\n",
       "</style>\n",
       "<table border=\"1\" class=\"dataframe\">\n",
       "  <thead>\n",
       "    <tr style=\"text-align: right;\">\n",
       "      <th></th>\n",
       "      <th>url</th>\n",
       "      <th>doc_id</th>\n",
       "      <th>label</th>\n",
       "      <th>html</th>\n",
       "      <th>html_text</th>\n",
       "    </tr>\n",
       "  </thead>\n",
       "  <tbody>\n",
       "    <tr>\n",
       "      <th>0</th>\n",
       "      <td>http://elbe-elster-klinikum.de/fachbereiche/ch...</td>\n",
       "      <td>1</td>\n",
       "      <td>1</td>\n",
       "      <td>&lt;!DOCTYPE html&gt;\\n&lt;!-- jsn_reta_pro 1.0.2 --&gt;\\n...</td>\n",
       "      <td>\\n \\n \\n \\n \\n \\n Elbe-Elster Klinikum - Chiru...</td>\n",
       "    </tr>\n",
       "    <tr>\n",
       "      <th>1</th>\n",
       "      <td>http://klinikum-bayreuth.de/einrichtungen/zent...</td>\n",
       "      <td>3</td>\n",
       "      <td>3</td>\n",
       "      <td>&lt;!DOCTYPE html&gt;\\n&lt;html class=\"no-js\" lang=\"de\"...</td>\n",
       "      <td>\\n \\n \\n \\n \\n \\n \\n Onkologisches Zentrum - K...</td>\n",
       "    </tr>\n",
       "    <tr>\n",
       "      <th>2</th>\n",
       "      <td>http://klinikum-braunschweig.de/info.php/?id_o...</td>\n",
       "      <td>4</td>\n",
       "      <td>1</td>\n",
       "      <td>&lt;!doctype html&gt;\\n&lt;html lang=\"de\"&gt;\\n&lt;head&gt;\\n\\t&lt;...</td>\n",
       "      <td>\\n \\n Zentrum - SozialpÃ¤diatrisches Zentrum -...</td>\n",
       "    </tr>\n",
       "    <tr>\n",
       "      <th>3</th>\n",
       "      <td>http://klinikum-braunschweig.de/info.php/?id_o...</td>\n",
       "      <td>5</td>\n",
       "      <td>1</td>\n",
       "      <td>&lt;!doctype html&gt;\\n&lt;html lang=\"de\"&gt;\\n&lt;head&gt;\\n\\t&lt;...</td>\n",
       "      <td>\\n \\n Leistung - Spezielle UnterstÃ¼tzung bei ...</td>\n",
       "    </tr>\n",
       "    <tr>\n",
       "      <th>4</th>\n",
       "      <td>http://klinikum-braunschweig.de/zuweiser/tumor...</td>\n",
       "      <td>6</td>\n",
       "      <td>3</td>\n",
       "      <td>&lt;!doctype html&gt;\\n&lt;html lang=\"de\"&gt;\\n&lt;head&gt;\\n\\t&lt;...</td>\n",
       "      <td>\\n \\n Zuweiser - Tumorkonferenzen - Tumorkonfe...</td>\n",
       "    </tr>\n",
       "  </tbody>\n",
       "</table>\n",
       "</div>"
      ],
      "text/plain": [
       "                                                 url  doc_id  label  \\\n",
       "0  http://elbe-elster-klinikum.de/fachbereiche/ch...       1      1   \n",
       "1  http://klinikum-bayreuth.de/einrichtungen/zent...       3      3   \n",
       "2  http://klinikum-braunschweig.de/info.php/?id_o...       4      1   \n",
       "3  http://klinikum-braunschweig.de/info.php/?id_o...       5      1   \n",
       "4  http://klinikum-braunschweig.de/zuweiser/tumor...       6      3   \n",
       "\n",
       "                                                html  \\\n",
       "0  <!DOCTYPE html>\\n<!-- jsn_reta_pro 1.0.2 -->\\n...   \n",
       "1  <!DOCTYPE html>\\n<html class=\"no-js\" lang=\"de\"...   \n",
       "2  <!doctype html>\\n<html lang=\"de\">\\n<head>\\n\\t<...   \n",
       "3  <!doctype html>\\n<html lang=\"de\">\\n<head>\\n\\t<...   \n",
       "4  <!doctype html>\\n<html lang=\"de\">\\n<head>\\n\\t<...   \n",
       "\n",
       "                                           html_text  \n",
       "0  \\n \\n \\n \\n \\n \\n Elbe-Elster Klinikum - Chiru...  \n",
       "1  \\n \\n \\n \\n \\n \\n \\n Onkologisches Zentrum - K...  \n",
       "2  \\n \\n Zentrum - SozialpÃ¤diatrisches Zentrum -...  \n",
       "3  \\n \\n Leistung - Spezielle UnterstÃ¼tzung bei ...  \n",
       "4  \\n \\n Zuweiser - Tumorkonferenzen - Tumorkonfe...  "
      ]
     },
     "execution_count": 16,
     "metadata": {},
     "output_type": "execute_result"
    }
   ],
   "source": [
    "train_csv[\"html_text\"] = train_csv[\"html\"].apply(extract_html_text)\n",
    "train_csv.head()"
   ]
  },
  {
   "cell_type": "markdown",
   "metadata": {},
   "source": [
    "We observe that there is a very large number of the new line characters `\\n` in the new `html_text` columns at the very begining of every entry. Accordingly, we would want to provide clear text, with no special characters and in a proper, human-readable format."
   ]
  },
  {
   "cell_type": "code",
   "execution_count": 17,
   "metadata": {},
   "outputs": [],
   "source": [
    "from gensim.parsing import preprocessing\n",
    "\n",
    "def preprocess_html_text(html_text: str) -> str:\n",
    "    preprocessed_text = preprocessing.strip_non_alphanum(s=html_text)\n",
    "    preprocessed_text = preprocessing.strip_multiple_whitespaces(s=preprocessed_text)\n",
    "    preprocessed_text = preprocessing.strip_punctuation(s=preprocessed_text)\n",
    "    preprocessed_text = preprocessing.strip_numeric(s=preprocessed_text)\n",
    "\n",
    "    preprocessed_text = preprocessing.stem_text(text=preprocessed_text)\n",
    "    preprocessed_text = preprocessing.remove_stopwords(s=preprocessed_text)\n",
    "    return preprocessed_text\n",
    "\n"
   ]
  },
  {
   "cell_type": "code",
   "execution_count": 19,
   "metadata": {},
   "outputs": [
    {
     "data": {
      "text/html": [
       "<div>\n",
       "<style scoped>\n",
       "    .dataframe tbody tr th:only-of-type {\n",
       "        vertical-align: middle;\n",
       "    }\n",
       "\n",
       "    .dataframe tbody tr th {\n",
       "        vertical-align: top;\n",
       "    }\n",
       "\n",
       "    .dataframe thead th {\n",
       "        text-align: right;\n",
       "    }\n",
       "</style>\n",
       "<table border=\"1\" class=\"dataframe\">\n",
       "  <thead>\n",
       "    <tr style=\"text-align: right;\">\n",
       "      <th></th>\n",
       "      <th>url</th>\n",
       "      <th>doc_id</th>\n",
       "      <th>label</th>\n",
       "      <th>html</th>\n",
       "      <th>html_text</th>\n",
       "      <th>preprocessed_html_text</th>\n",
       "    </tr>\n",
       "  </thead>\n",
       "  <tbody>\n",
       "    <tr>\n",
       "      <th>0</th>\n",
       "      <td>http://elbe-elster-klinikum.de/fachbereiche/ch...</td>\n",
       "      <td>1</td>\n",
       "      <td>1</td>\n",
       "      <td>&lt;!DOCTYPE html&gt;\\n&lt;!-- jsn_reta_pro 1.0.2 --&gt;\\n...</td>\n",
       "      <td>\\n \\n \\n \\n \\n \\n Elbe-Elster Klinikum - Chiru...</td>\n",
       "      <td>elb elster klinikum chirurgi finsterwald suche...</td>\n",
       "    </tr>\n",
       "    <tr>\n",
       "      <th>1</th>\n",
       "      <td>http://klinikum-bayreuth.de/einrichtungen/zent...</td>\n",
       "      <td>3</td>\n",
       "      <td>3</td>\n",
       "      <td>&lt;!DOCTYPE html&gt;\\n&lt;html class=\"no-js\" lang=\"de\"...</td>\n",
       "      <td>\\n \\n \\n \\n \\n \\n \\n Onkologisches Zentrum - K...</td>\n",
       "      <td>onkologisch zentrum klinikum bayreuth aktuel ã...</td>\n",
       "    </tr>\n",
       "    <tr>\n",
       "      <th>2</th>\n",
       "      <td>http://klinikum-braunschweig.de/info.php/?id_o...</td>\n",
       "      <td>4</td>\n",
       "      <td>1</td>\n",
       "      <td>&lt;!doctype html&gt;\\n&lt;html lang=\"de\"&gt;\\n&lt;head&gt;\\n\\t&lt;...</td>\n",
       "      <td>\\n \\n Zentrum - SozialpÃ¤diatrisches Zentrum -...</td>\n",
       "      <td>zentrum sozialpã diatrisch zentrum stã dtisch ...</td>\n",
       "    </tr>\n",
       "    <tr>\n",
       "      <th>3</th>\n",
       "      <td>http://klinikum-braunschweig.de/info.php/?id_o...</td>\n",
       "      <td>5</td>\n",
       "      <td>1</td>\n",
       "      <td>&lt;!doctype html&gt;\\n&lt;html lang=\"de\"&gt;\\n&lt;head&gt;\\n\\t&lt;...</td>\n",
       "      <td>\\n \\n Leistung - Spezielle UnterstÃ¼tzung bei ...</td>\n",
       "      <td>leistung speziel unterstã¼tzung bei der anmeld...</td>\n",
       "    </tr>\n",
       "    <tr>\n",
       "      <th>4</th>\n",
       "      <td>http://klinikum-braunschweig.de/zuweiser/tumor...</td>\n",
       "      <td>6</td>\n",
       "      <td>3</td>\n",
       "      <td>&lt;!doctype html&gt;\\n&lt;html lang=\"de\"&gt;\\n&lt;head&gt;\\n\\t&lt;...</td>\n",
       "      <td>\\n \\n Zuweiser - Tumorkonferenzen - Tumorkonfe...</td>\n",
       "      <td>zuweis tumorkonferenzen tumorkonferenz gastroi...</td>\n",
       "    </tr>\n",
       "  </tbody>\n",
       "</table>\n",
       "</div>"
      ],
      "text/plain": [
       "                                                 url  doc_id  label  \\\n",
       "0  http://elbe-elster-klinikum.de/fachbereiche/ch...       1      1   \n",
       "1  http://klinikum-bayreuth.de/einrichtungen/zent...       3      3   \n",
       "2  http://klinikum-braunschweig.de/info.php/?id_o...       4      1   \n",
       "3  http://klinikum-braunschweig.de/info.php/?id_o...       5      1   \n",
       "4  http://klinikum-braunschweig.de/zuweiser/tumor...       6      3   \n",
       "\n",
       "                                                html  \\\n",
       "0  <!DOCTYPE html>\\n<!-- jsn_reta_pro 1.0.2 -->\\n...   \n",
       "1  <!DOCTYPE html>\\n<html class=\"no-js\" lang=\"de\"...   \n",
       "2  <!doctype html>\\n<html lang=\"de\">\\n<head>\\n\\t<...   \n",
       "3  <!doctype html>\\n<html lang=\"de\">\\n<head>\\n\\t<...   \n",
       "4  <!doctype html>\\n<html lang=\"de\">\\n<head>\\n\\t<...   \n",
       "\n",
       "                                           html_text  \\\n",
       "0  \\n \\n \\n \\n \\n \\n Elbe-Elster Klinikum - Chiru...   \n",
       "1  \\n \\n \\n \\n \\n \\n \\n Onkologisches Zentrum - K...   \n",
       "2  \\n \\n Zentrum - SozialpÃ¤diatrisches Zentrum -...   \n",
       "3  \\n \\n Leistung - Spezielle UnterstÃ¼tzung bei ...   \n",
       "4  \\n \\n Zuweiser - Tumorkonferenzen - Tumorkonfe...   \n",
       "\n",
       "                              preprocessed_html_text  \n",
       "0  elb elster klinikum chirurgi finsterwald suche...  \n",
       "1  onkologisch zentrum klinikum bayreuth aktuel ã...  \n",
       "2  zentrum sozialpã diatrisch zentrum stã dtisch ...  \n",
       "3  leistung speziel unterstã¼tzung bei der anmeld...  \n",
       "4  zuweis tumorkonferenzen tumorkonferenz gastroi...  "
      ]
     },
     "execution_count": 19,
     "metadata": {},
     "output_type": "execute_result"
    }
   ],
   "source": [
    "train_csv[\"preprocessed_html_text\"] = train_csv[\"html_text\"].apply(preprocess_html_text)\n",
    "train_csv.head()"
   ]
  },
  {
   "cell_type": "code",
   "execution_count": null,
   "metadata": {},
   "outputs": [],
   "source": []
  }
 ],
 "metadata": {
  "kernelspec": {
   "display_name": "Python 3",
   "language": "python",
   "name": "python3"
  },
  "language_info": {
   "codemirror_mode": {
    "name": "ipython",
    "version": 3
   },
   "file_extension": ".py",
   "mimetype": "text/x-python",
   "name": "python",
   "nbconvert_exporter": "python",
   "pygments_lexer": "ipython3",
   "version": "3.10.1"
  }
 },
 "nbformat": 4,
 "nbformat_minor": 2
}
