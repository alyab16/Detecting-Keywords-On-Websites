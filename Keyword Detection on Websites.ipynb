{
 "cells": [
  {
   "cell_type": "markdown",
   "metadata": {},
   "source": [
    "# Table of Contents\n",
    "* [Project Goals](#project_goals)\n",
    "* [Introduction](#introduction)\n",
    "* [Importing Data](#importing_data)\n",
    "* [Exploratory Data Analysis](#exploratory_data_analysis)\n",
    "* [Feature Engineering](#feature_engineering)"
   ]
  },
  {
   "cell_type": "markdown",
   "metadata": {},
   "source": [
    "<a class=\"anchor\" id=\"project_goals\"></a>\n",
    "\n",
    "# <p style=\"background:#00003f url('pylogo.jpg') no-repeat; font-family:tahoma; font-size:150%; color:white; text-align:center; border-radius:20px 30px; width:92%; padding:30px; font-weight:bold\">Project Goals</p>"
   ]
  },
  {
   "cell_type": "markdown",
   "metadata": {},
   "source": [
    "The task is to create an algorithm, that takes an HTML page as input and infers if the page contains the information about cancer tumor board or not.\n",
    "\n",
    "What is a tumor board? Tumor Board is a consilium of doctors (usually from diferent disciplines) discussing cancer cases in their departments. If you want to know more you can read this article.\n",
    "\n",
    "As a final output from this task I will provide a submission.csv file for the test data set with two columns: document ID and a prediction, and a Jupyter notebook with code and documentation giving answers to the following questions:\n",
    "\n",
    "-\tHow did you decide to do feature engineering?\n",
    "-\tHow did you decide which models to try (if you decide to train any models)?\n",
    "-\tHow did you perform validation of your model?\n",
    "-\tWhat metrics did you measure?\n",
    "-\tHow do you expect your model to perform on test data (in terms of your metrics)?\n",
    "-\tHow fast will your algorithm perform and how could you improve its performance if you would have more time?\n",
    "-\tHow do you think you would be able to improve your algorithm if you would have more data?\n",
    "-\tWhat potential issues do you see with your algorithm?"
   ]
  },
  {
   "cell_type": "markdown",
   "metadata": {},
   "source": [
    "<a class=\"anchor\" id=\"introduction\"></a>\n",
    "\n",
    "# <p style=\"background:#990011 url('pylogo.jpg') no-repeat; font-family:tahoma; font-size:150%; color:#FCF6F5; text-align:center; border-radius:20px 30px; width:40%; padding:30px; font-weight:bold\">Introduction</p>"
   ]
  },
  {
   "cell_type": "code",
   "execution_count": null,
   "metadata": {},
   "outputs": [],
   "source": []
  },
  {
   "cell_type": "markdown",
   "metadata": {},
   "source": [
    "<a class=\"anchor\" id=\"importing_data\"></a>\n",
    "\n",
    "# <p style=\"background:#990011 url('pylogo.jpg') no-repeat; font-family:tahoma; font-size:150%; color:#FCF6F5; text-align:center; border-radius:20px 30px; width:60%; padding:30px; font-weight:bold\">Importing Data</p>"
   ]
  }
 ],
 "metadata": {
  "language_info": {
   "name": "python"
  }
 },
 "nbformat": 4,
 "nbformat_minor": 2
}
